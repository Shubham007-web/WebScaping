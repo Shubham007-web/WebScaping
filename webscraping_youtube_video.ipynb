{
 "cells": [
  {
   "cell_type": "raw",
   "id": "d947dbd5",
   "metadata": {},
   "source": [
    "# Before downloading the, please install pytube\n",
    "python -m pip install --upgrade pytube"
   ]
  },
  {
   "cell_type": "code",
   "execution_count": 1,
   "id": "9449a773",
   "metadata": {},
   "outputs": [],
   "source": [
    "from pytube import YouTube "
   ]
  },
  {
   "cell_type": "code",
   "execution_count": 2,
   "id": "04658214",
   "metadata": {},
   "outputs": [
    {
     "name": "stdout",
     "output_type": "stream",
     "text": [
      "Link : https://youtu.be/36GT2zI8lVA\n"
     ]
    }
   ],
   "source": [
    "link = input('Link : ')\n",
    "yt = YouTube(link)"
   ]
  },
  {
   "cell_type": "code",
   "execution_count": 3,
   "id": "b850f08b",
   "metadata": {},
   "outputs": [
    {
     "data": {
      "text/plain": [
       "'Richard Feynman. Why.'"
      ]
     },
     "execution_count": 3,
     "metadata": {},
     "output_type": "execute_result"
    }
   ],
   "source": [
    "# some discription about the videos\n",
    "yt.title"
   ]
  },
  {
   "cell_type": "code",
   "execution_count": 4,
   "id": "6bb9f27d",
   "metadata": {},
   "outputs": [
    {
     "data": {
      "text/plain": [
       "3804484"
      ]
     },
     "execution_count": 4,
     "metadata": {},
     "output_type": "execute_result"
    }
   ],
   "source": [
    "# view on the videos\n",
    "yt.views"
   ]
  },
  {
   "cell_type": "code",
   "execution_count": 5,
   "id": "198dace2",
   "metadata": {},
   "outputs": [
    {
     "data": {
      "text/plain": [
       "453"
      ]
     },
     "execution_count": 5,
     "metadata": {},
     "output_type": "execute_result"
    }
   ],
   "source": [
    "# total length of video in seconds\n",
    "yt.length"
   ]
  },
  {
   "cell_type": "code",
   "execution_count": 6,
   "id": "cfdd3373",
   "metadata": {},
   "outputs": [
    {
     "data": {
      "text/plain": [
       "'Richard Feynman. Why.'"
      ]
     },
     "execution_count": 6,
     "metadata": {},
     "output_type": "execute_result"
    }
   ],
   "source": [
    "# description of the video\n",
    "yt.description"
   ]
  },
  {
   "cell_type": "code",
   "execution_count": 7,
   "id": "a3489c75",
   "metadata": {},
   "outputs": [],
   "source": [
    "# downloading videos\n",
    "stream = yt.streams.get_highest_resolution()\n",
    "stream.download()"
   ]
  },
  {
   "cell_type": "code",
   "execution_count": null,
   "id": "3b885d57",
   "metadata": {},
   "outputs": [],
   "source": []
  }
 ],
 "metadata": {
  "kernelspec": {
   "display_name": "Python 3 (ipykernel)",
   "language": "python",
   "name": "python3"
  },
  "language_info": {
   "codemirror_mode": {
    "name": "ipython",
    "version": 3
   },
   "file_extension": ".py",
   "mimetype": "text/x-python",
   "name": "python",
   "nbconvert_exporter": "python",
   "pygments_lexer": "ipython3",
   "version": "3.9.12"
  }
 },
 "nbformat": 4,
 "nbformat_minor": 5
}
